{
 "cells": [
  {
   "cell_type": "markdown",
   "source": [
    "### Note\n",
    "* Instructions have been included for each segment. You do not have to follow them exactly, but they are included to help you think through the steps."
   ],
   "metadata": {}
  },
  {
   "cell_type": "code",
   "execution_count": 154,
   "source": [
    "# Dependencies and Setup\r\n",
    "import pandas as pd\r\n",
    "\r\n",
    "# File to Load (Remember to Change These)\r\n",
    "file_to_load = \"Resources/purchase_data.csv\"\r\n",
    "\r\n",
    "# Read Purchasing File and store into Pandas data frame\r\n",
    "purchase_data = pd.read_csv(file_to_load)"
   ],
   "outputs": [],
   "metadata": {}
  },
  {
   "cell_type": "code",
   "execution_count": 155,
   "source": [
    "purchase_data.columns"
   ],
   "outputs": [
    {
     "output_type": "execute_result",
     "data": {
      "text/plain": [
       "Index(['Purchase ID', 'SN', 'Age', 'Gender', 'Item ID', 'Item Name', 'Price'], dtype='object')"
      ]
     },
     "metadata": {},
     "execution_count": 155
    }
   ],
   "metadata": {}
  },
  {
   "cell_type": "markdown",
   "source": [
    "## Player Count"
   ],
   "metadata": {}
  },
  {
   "cell_type": "markdown",
   "source": [
    "* Display the total number of players\n"
   ],
   "metadata": {}
  },
  {
   "cell_type": "code",
   "execution_count": 156,
   "source": [
    "total_players = purchase_data['SN'].nunique()\r\n",
    "total_players\r\n",
    "total_df = pd.DataFrame({'Total Players':[total_players]})\r\n",
    "total_df"
   ],
   "outputs": [
    {
     "output_type": "execute_result",
     "data": {
      "text/plain": [
       "   Total Players\n",
       "0            576"
      ],
      "text/html": [
       "<div>\n",
       "<style scoped>\n",
       "    .dataframe tbody tr th:only-of-type {\n",
       "        vertical-align: middle;\n",
       "    }\n",
       "\n",
       "    .dataframe tbody tr th {\n",
       "        vertical-align: top;\n",
       "    }\n",
       "\n",
       "    .dataframe thead th {\n",
       "        text-align: right;\n",
       "    }\n",
       "</style>\n",
       "<table border=\"1\" class=\"dataframe\">\n",
       "  <thead>\n",
       "    <tr style=\"text-align: right;\">\n",
       "      <th></th>\n",
       "      <th>Total Players</th>\n",
       "    </tr>\n",
       "  </thead>\n",
       "  <tbody>\n",
       "    <tr>\n",
       "      <th>0</th>\n",
       "      <td>576</td>\n",
       "    </tr>\n",
       "  </tbody>\n",
       "</table>\n",
       "</div>"
      ]
     },
     "metadata": {},
     "execution_count": 156
    }
   ],
   "metadata": {}
  },
  {
   "cell_type": "markdown",
   "source": [
    "## Purchasing Analysis (Total)"
   ],
   "metadata": {}
  },
  {
   "cell_type": "markdown",
   "source": [
    "* Run basic calculations to obtain number of unique items, average price, etc.\n",
    "\n",
    "\n",
    "* Create a summary data frame to hold the results\n",
    "\n",
    "\n",
    "* Optional: give the displayed data cleaner formatting\n",
    "\n",
    "\n",
    "* Display the summary data frame\n"
   ],
   "metadata": {}
  },
  {
   "cell_type": "code",
   "execution_count": 157,
   "source": [
    "unique_items = purchase_data['Item ID'].nunique()\r\n",
    "unique_items\r\n",
    "average_price = purchase_data['Price'].mean()\r\n",
    "average_price\r\n",
    "purchases = len(purchase_data['Purchase ID'])\r\n",
    "purchases\r\n",
    "revenue = purchases * average_price\r\n",
    "revenue\r\n",
    "purchasing_df = pd.DataFrame({'Number of Unique Items':[unique_items],'Average Price': [average_price], 'Number of Purchases': [purchases], 'Total Revenue':[revenue]})\r\n",
    "purchasing_df = purchasing_df.style.format(formatter ={('Average Price'):('${0:,.2f}'),('Total Revenue'):('${0:,.2f}')})\r\n",
    "purchasing_df\r\n"
   ],
   "outputs": [
    {
     "output_type": "execute_result",
     "data": {
      "text/plain": [
       "<pandas.io.formats.style.Styler at 0x1b67443e8b0>"
      ],
      "text/html": [
       "<style  type=\"text/css\" >\n",
       "</style><table id=\"T_80bdd_\" ><thead>    <tr>        <th class=\"blank level0\" ></th>        <th class=\"col_heading level0 col0\" >Number of Unique Items</th>        <th class=\"col_heading level0 col1\" >Average Price</th>        <th class=\"col_heading level0 col2\" >Number of Purchases</th>        <th class=\"col_heading level0 col3\" >Total Revenue</th>    </tr></thead><tbody>\n",
       "                <tr>\n",
       "                        <th id=\"T_80bdd_level0_row0\" class=\"row_heading level0 row0\" >0</th>\n",
       "                        <td id=\"T_80bdd_row0_col0\" class=\"data row0 col0\" >179</td>\n",
       "                        <td id=\"T_80bdd_row0_col1\" class=\"data row0 col1\" >$3.05</td>\n",
       "                        <td id=\"T_80bdd_row0_col2\" class=\"data row0 col2\" >780</td>\n",
       "                        <td id=\"T_80bdd_row0_col3\" class=\"data row0 col3\" >$2,379.77</td>\n",
       "            </tr>\n",
       "    </tbody></table>"
      ]
     },
     "metadata": {},
     "execution_count": 157
    }
   ],
   "metadata": {
    "scrolled": true
   }
  },
  {
   "cell_type": "markdown",
   "source": [
    "## Gender Demographics"
   ],
   "metadata": {}
  },
  {
   "cell_type": "markdown",
   "source": [
    "* Percentage and Count of Male Players\n",
    "\n",
    "\n",
    "* Percentage and Count of Female Players\n",
    "\n",
    "\n",
    "* Percentage and Count of Other / Non-Disclosed\n",
    "\n",
    "\n"
   ],
   "metadata": {}
  },
  {
   "cell_type": "code",
   "execution_count": 158,
   "source": [
    "grouped = purchase_data.groupby(['Gender'])\r\n",
    "grouped.head()\r\n",
    "gender_count = grouped['SN'].nunique()\r\n",
    "gender_count\r\n",
    "gender_count_pct = gender_count / total_players *100\r\n",
    "gender_df = pd.DataFrame(data=gender_count)\r\n",
    "gender_df = gender_df.rename(columns={'SN':'Total Count'})\r\n",
    "gender_df['Percentage of Players'] = gender_count_pct\r\n",
    "gender_df = gender_df.style.format(formatter={('Percentage of Players'):('{0:,.2f}%')})\r\n",
    "gender_df\r\n"
   ],
   "outputs": [
    {
     "output_type": "execute_result",
     "data": {
      "text/plain": [
       "<pandas.io.formats.style.Styler at 0x1b67324b0d0>"
      ],
      "text/html": [
       "<style  type=\"text/css\" >\n",
       "</style><table id=\"T_b14ab_\" ><thead>    <tr>        <th class=\"blank level0\" ></th>        <th class=\"col_heading level0 col0\" >Total Count</th>        <th class=\"col_heading level0 col1\" >Percentage of Players</th>    </tr>    <tr>        <th class=\"index_name level0\" >Gender</th>        <th class=\"blank\" ></th>        <th class=\"blank\" ></th>    </tr></thead><tbody>\n",
       "                <tr>\n",
       "                        <th id=\"T_b14ab_level0_row0\" class=\"row_heading level0 row0\" >Female</th>\n",
       "                        <td id=\"T_b14ab_row0_col0\" class=\"data row0 col0\" >81</td>\n",
       "                        <td id=\"T_b14ab_row0_col1\" class=\"data row0 col1\" >14.06%</td>\n",
       "            </tr>\n",
       "            <tr>\n",
       "                        <th id=\"T_b14ab_level0_row1\" class=\"row_heading level0 row1\" >Male</th>\n",
       "                        <td id=\"T_b14ab_row1_col0\" class=\"data row1 col0\" >484</td>\n",
       "                        <td id=\"T_b14ab_row1_col1\" class=\"data row1 col1\" >84.03%</td>\n",
       "            </tr>\n",
       "            <tr>\n",
       "                        <th id=\"T_b14ab_level0_row2\" class=\"row_heading level0 row2\" >Other / Non-Disclosed</th>\n",
       "                        <td id=\"T_b14ab_row2_col0\" class=\"data row2 col0\" >11</td>\n",
       "                        <td id=\"T_b14ab_row2_col1\" class=\"data row2 col1\" >1.91%</td>\n",
       "            </tr>\n",
       "    </tbody></table>"
      ]
     },
     "metadata": {},
     "execution_count": 158
    }
   ],
   "metadata": {}
  },
  {
   "cell_type": "markdown",
   "source": [
    "\n",
    "## Purchasing Analysis (Gender)"
   ],
   "metadata": {}
  },
  {
   "cell_type": "markdown",
   "source": [
    "* Run basic calculations to obtain purchase count, avg. purchase price, avg. purchase total per person etc. by gender\n",
    "\n",
    "\n",
    "\n",
    "\n",
    "* Create a summary data frame to hold the results\n",
    "\n",
    "\n",
    "* Optional: give the displayed data cleaner formatting\n",
    "\n",
    "\n",
    "* Display the summary data frame"
   ],
   "metadata": {}
  },
  {
   "cell_type": "code",
   "execution_count": 159,
   "source": [
    "\r\n",
    "purchase_count = grouped['Purchase ID'].count()\r\n",
    "average_purchase = grouped['Price'].mean()\r\n",
    "total_purchase = grouped['Price'].sum()\r\n",
    "averagep_person = total_purchase / gender_count\r\n",
    "averagep_person\r\n",
    "purchase_gender = pd.DataFrame(data=purchase_count)\r\n",
    "purchase_gender = purchase_gender.rename(columns={'Purchase ID': 'Purchase Count'})\r\n",
    "purchase_gender['Average Purchase Price'] = average_purchase\r\n",
    "purchase_gender['Total Purchase Value'] = total_purchase\r\n",
    "purchase_gender['Avg Total Purchase per Person'] = averagep_person\r\n",
    "purchase_gender = purchase_gender.style.format(formatter={('Average Purchase Price'):('${0:,.2f}'),('Total Purchase Value'):('${0:,.2f}'),('Avg Total Purchase per Person'):('${0:,.2f}')})\r\n",
    "purchase_gender"
   ],
   "outputs": [
    {
     "output_type": "execute_result",
     "data": {
      "text/plain": [
       "<pandas.io.formats.style.Styler at 0x1b674023a60>"
      ],
      "text/html": [
       "<style  type=\"text/css\" >\n",
       "</style><table id=\"T_4ae68_\" ><thead>    <tr>        <th class=\"blank level0\" ></th>        <th class=\"col_heading level0 col0\" >Purchase Count</th>        <th class=\"col_heading level0 col1\" >Average Purchase Price</th>        <th class=\"col_heading level0 col2\" >Total Purchase Value</th>        <th class=\"col_heading level0 col3\" >Avg Total Purchase per Person</th>    </tr>    <tr>        <th class=\"index_name level0\" >Gender</th>        <th class=\"blank\" ></th>        <th class=\"blank\" ></th>        <th class=\"blank\" ></th>        <th class=\"blank\" ></th>    </tr></thead><tbody>\n",
       "                <tr>\n",
       "                        <th id=\"T_4ae68_level0_row0\" class=\"row_heading level0 row0\" >Female</th>\n",
       "                        <td id=\"T_4ae68_row0_col0\" class=\"data row0 col0\" >113</td>\n",
       "                        <td id=\"T_4ae68_row0_col1\" class=\"data row0 col1\" >$3.20</td>\n",
       "                        <td id=\"T_4ae68_row0_col2\" class=\"data row0 col2\" >$361.94</td>\n",
       "                        <td id=\"T_4ae68_row0_col3\" class=\"data row0 col3\" >$4.47</td>\n",
       "            </tr>\n",
       "            <tr>\n",
       "                        <th id=\"T_4ae68_level0_row1\" class=\"row_heading level0 row1\" >Male</th>\n",
       "                        <td id=\"T_4ae68_row1_col0\" class=\"data row1 col0\" >652</td>\n",
       "                        <td id=\"T_4ae68_row1_col1\" class=\"data row1 col1\" >$3.02</td>\n",
       "                        <td id=\"T_4ae68_row1_col2\" class=\"data row1 col2\" >$1,967.64</td>\n",
       "                        <td id=\"T_4ae68_row1_col3\" class=\"data row1 col3\" >$4.07</td>\n",
       "            </tr>\n",
       "            <tr>\n",
       "                        <th id=\"T_4ae68_level0_row2\" class=\"row_heading level0 row2\" >Other / Non-Disclosed</th>\n",
       "                        <td id=\"T_4ae68_row2_col0\" class=\"data row2 col0\" >15</td>\n",
       "                        <td id=\"T_4ae68_row2_col1\" class=\"data row2 col1\" >$3.35</td>\n",
       "                        <td id=\"T_4ae68_row2_col2\" class=\"data row2 col2\" >$50.19</td>\n",
       "                        <td id=\"T_4ae68_row2_col3\" class=\"data row2 col3\" >$4.56</td>\n",
       "            </tr>\n",
       "    </tbody></table>"
      ]
     },
     "metadata": {},
     "execution_count": 159
    }
   ],
   "metadata": {}
  },
  {
   "cell_type": "markdown",
   "source": [
    "## Age Demographics"
   ],
   "metadata": {}
  },
  {
   "cell_type": "markdown",
   "source": [
    "* Establish bins for ages\n",
    "\n",
    "\n",
    "* Categorize the existing players using the age bins. Hint: use pd.cut()\n",
    "\n",
    "\n",
    "* Calculate the numbers and percentages by age group\n",
    "\n",
    "\n",
    "* Create a summary data frame to hold the results\n",
    "\n",
    "\n",
    "* Optional: round the percentage column to two decimal points\n",
    "\n",
    "\n",
    "* Display Age Demographics Table\n"
   ],
   "metadata": {}
  },
  {
   "cell_type": "code",
   "execution_count": 160,
   "source": [
    "bins = [0,9.9,14.9,19.9,24.9,29.9,34.9,39.9,999]\r\n",
    "bin_labels = ['<10','10-14','15-19','20-24','25-29','30-34','35-39','40+']\r\n",
    "purchase_data['Age Group'] = pd.cut(purchase_data['Age'],bins,labels=bin_labels,include_lowest=True)\r\n",
    "age_grouped = purchase_data.groupby('Age Group')\r\n",
    "age_grouped.head()\r\n",
    "age_count = age_grouped['SN'].nunique()\r\n",
    "age_count\r\n",
    "age_percent = age_count / total_players * 100\r\n",
    "age_df = pd.DataFrame(data=age_count)\r\n",
    "age_df = age_df.rename(columns={'SN':'Total Count'})\r\n",
    "age_df['Percentage of Players']= age_percent\r\n",
    "age_df = age_df.style.format(formatter={('Percentage of Players'):('{0:,.2f}%')})\r\n",
    "age_df\r\n"
   ],
   "outputs": [
    {
     "output_type": "execute_result",
     "data": {
      "text/plain": [
       "<pandas.io.formats.style.Styler at 0x1b674015370>"
      ],
      "text/html": [
       "<style  type=\"text/css\" >\n",
       "</style><table id=\"T_a3bea_\" ><thead>    <tr>        <th class=\"blank level0\" ></th>        <th class=\"col_heading level0 col0\" >Total Count</th>        <th class=\"col_heading level0 col1\" >Percentage of Players</th>    </tr>    <tr>        <th class=\"index_name level0\" >Age Group</th>        <th class=\"blank\" ></th>        <th class=\"blank\" ></th>    </tr></thead><tbody>\n",
       "                <tr>\n",
       "                        <th id=\"T_a3bea_level0_row0\" class=\"row_heading level0 row0\" ><10</th>\n",
       "                        <td id=\"T_a3bea_row0_col0\" class=\"data row0 col0\" >17</td>\n",
       "                        <td id=\"T_a3bea_row0_col1\" class=\"data row0 col1\" >2.95%</td>\n",
       "            </tr>\n",
       "            <tr>\n",
       "                        <th id=\"T_a3bea_level0_row1\" class=\"row_heading level0 row1\" >10-14</th>\n",
       "                        <td id=\"T_a3bea_row1_col0\" class=\"data row1 col0\" >22</td>\n",
       "                        <td id=\"T_a3bea_row1_col1\" class=\"data row1 col1\" >3.82%</td>\n",
       "            </tr>\n",
       "            <tr>\n",
       "                        <th id=\"T_a3bea_level0_row2\" class=\"row_heading level0 row2\" >15-19</th>\n",
       "                        <td id=\"T_a3bea_row2_col0\" class=\"data row2 col0\" >107</td>\n",
       "                        <td id=\"T_a3bea_row2_col1\" class=\"data row2 col1\" >18.58%</td>\n",
       "            </tr>\n",
       "            <tr>\n",
       "                        <th id=\"T_a3bea_level0_row3\" class=\"row_heading level0 row3\" >20-24</th>\n",
       "                        <td id=\"T_a3bea_row3_col0\" class=\"data row3 col0\" >258</td>\n",
       "                        <td id=\"T_a3bea_row3_col1\" class=\"data row3 col1\" >44.79%</td>\n",
       "            </tr>\n",
       "            <tr>\n",
       "                        <th id=\"T_a3bea_level0_row4\" class=\"row_heading level0 row4\" >25-29</th>\n",
       "                        <td id=\"T_a3bea_row4_col0\" class=\"data row4 col0\" >77</td>\n",
       "                        <td id=\"T_a3bea_row4_col1\" class=\"data row4 col1\" >13.37%</td>\n",
       "            </tr>\n",
       "            <tr>\n",
       "                        <th id=\"T_a3bea_level0_row5\" class=\"row_heading level0 row5\" >30-34</th>\n",
       "                        <td id=\"T_a3bea_row5_col0\" class=\"data row5 col0\" >52</td>\n",
       "                        <td id=\"T_a3bea_row5_col1\" class=\"data row5 col1\" >9.03%</td>\n",
       "            </tr>\n",
       "            <tr>\n",
       "                        <th id=\"T_a3bea_level0_row6\" class=\"row_heading level0 row6\" >35-39</th>\n",
       "                        <td id=\"T_a3bea_row6_col0\" class=\"data row6 col0\" >31</td>\n",
       "                        <td id=\"T_a3bea_row6_col1\" class=\"data row6 col1\" >5.38%</td>\n",
       "            </tr>\n",
       "            <tr>\n",
       "                        <th id=\"T_a3bea_level0_row7\" class=\"row_heading level0 row7\" >40+</th>\n",
       "                        <td id=\"T_a3bea_row7_col0\" class=\"data row7 col0\" >12</td>\n",
       "                        <td id=\"T_a3bea_row7_col1\" class=\"data row7 col1\" >2.08%</td>\n",
       "            </tr>\n",
       "    </tbody></table>"
      ]
     },
     "metadata": {},
     "execution_count": 160
    }
   ],
   "metadata": {}
  },
  {
   "cell_type": "markdown",
   "source": [
    "## Purchasing Analysis (Age)"
   ],
   "metadata": {}
  },
  {
   "cell_type": "markdown",
   "source": [
    "* Bin the purchase_data data frame by age\n",
    "\n",
    "\n",
    "* Run basic calculations to obtain purchase count, avg. purchase price, avg. purchase total per person etc. in the table below\n",
    "\n",
    "\n",
    "* Create a summary data frame to hold the results\n",
    "\n",
    "\n",
    "* Optional: give the displayed data cleaner formatting\n",
    "\n",
    "\n",
    "* Display the summary data frame"
   ],
   "metadata": {}
  },
  {
   "cell_type": "code",
   "execution_count": 161,
   "source": [
    "purchase_age = age_grouped['Purchase ID'].count()\r\n",
    "average_purchase_age = age_grouped['Price'].mean()\r\n",
    "total_purchase_age = age_grouped['Price'].sum()\r\n",
    "averagep_person_age = total_purchase_age / age_count\r\n",
    "age_df_purchase = pd.DataFrame(data=purchase_age)\r\n",
    "age_df_purchase = age_df_purchase.rename(columns={'Purchase ID':'Purchase Count'})\r\n",
    "age_df_purchase['Average Purchase Price'] = average_purchase_age\r\n",
    "age_df_purchase['Total Purchase Value'] = total_purchase_age\r\n",
    "age_df_purchase['Avg Total Purchase per Person'] = averagep_person_age\r\n",
    "age_df_purchase = age_df_purchase.style.format(formatter={('Average Purchase Price'):('${0:,.2f}'),('Total Purchase Value'):('${0:,.2f}'),('Avg Total Purchase per Person'):('${0:,.2f}')})\r\n",
    "age_df_purchase"
   ],
   "outputs": [
    {
     "output_type": "execute_result",
     "data": {
      "text/plain": [
       "<pandas.io.formats.style.Styler at 0x1b6740702b0>"
      ],
      "text/html": [
       "<style  type=\"text/css\" >\n",
       "</style><table id=\"T_ae5dc_\" ><thead>    <tr>        <th class=\"blank level0\" ></th>        <th class=\"col_heading level0 col0\" >Purchase Count</th>        <th class=\"col_heading level0 col1\" >Average Purchase Price</th>        <th class=\"col_heading level0 col2\" >Total Purchase Value</th>        <th class=\"col_heading level0 col3\" >Avg Total Purchase per Person</th>    </tr>    <tr>        <th class=\"index_name level0\" >Age Group</th>        <th class=\"blank\" ></th>        <th class=\"blank\" ></th>        <th class=\"blank\" ></th>        <th class=\"blank\" ></th>    </tr></thead><tbody>\n",
       "                <tr>\n",
       "                        <th id=\"T_ae5dc_level0_row0\" class=\"row_heading level0 row0\" ><10</th>\n",
       "                        <td id=\"T_ae5dc_row0_col0\" class=\"data row0 col0\" >23</td>\n",
       "                        <td id=\"T_ae5dc_row0_col1\" class=\"data row0 col1\" >$3.35</td>\n",
       "                        <td id=\"T_ae5dc_row0_col2\" class=\"data row0 col2\" >$77.13</td>\n",
       "                        <td id=\"T_ae5dc_row0_col3\" class=\"data row0 col3\" >$4.54</td>\n",
       "            </tr>\n",
       "            <tr>\n",
       "                        <th id=\"T_ae5dc_level0_row1\" class=\"row_heading level0 row1\" >10-14</th>\n",
       "                        <td id=\"T_ae5dc_row1_col0\" class=\"data row1 col0\" >28</td>\n",
       "                        <td id=\"T_ae5dc_row1_col1\" class=\"data row1 col1\" >$2.96</td>\n",
       "                        <td id=\"T_ae5dc_row1_col2\" class=\"data row1 col2\" >$82.78</td>\n",
       "                        <td id=\"T_ae5dc_row1_col3\" class=\"data row1 col3\" >$3.76</td>\n",
       "            </tr>\n",
       "            <tr>\n",
       "                        <th id=\"T_ae5dc_level0_row2\" class=\"row_heading level0 row2\" >15-19</th>\n",
       "                        <td id=\"T_ae5dc_row2_col0\" class=\"data row2 col0\" >136</td>\n",
       "                        <td id=\"T_ae5dc_row2_col1\" class=\"data row2 col1\" >$3.04</td>\n",
       "                        <td id=\"T_ae5dc_row2_col2\" class=\"data row2 col2\" >$412.89</td>\n",
       "                        <td id=\"T_ae5dc_row2_col3\" class=\"data row2 col3\" >$3.86</td>\n",
       "            </tr>\n",
       "            <tr>\n",
       "                        <th id=\"T_ae5dc_level0_row3\" class=\"row_heading level0 row3\" >20-24</th>\n",
       "                        <td id=\"T_ae5dc_row3_col0\" class=\"data row3 col0\" >365</td>\n",
       "                        <td id=\"T_ae5dc_row3_col1\" class=\"data row3 col1\" >$3.05</td>\n",
       "                        <td id=\"T_ae5dc_row3_col2\" class=\"data row3 col2\" >$1,114.06</td>\n",
       "                        <td id=\"T_ae5dc_row3_col3\" class=\"data row3 col3\" >$4.32</td>\n",
       "            </tr>\n",
       "            <tr>\n",
       "                        <th id=\"T_ae5dc_level0_row4\" class=\"row_heading level0 row4\" >25-29</th>\n",
       "                        <td id=\"T_ae5dc_row4_col0\" class=\"data row4 col0\" >101</td>\n",
       "                        <td id=\"T_ae5dc_row4_col1\" class=\"data row4 col1\" >$2.90</td>\n",
       "                        <td id=\"T_ae5dc_row4_col2\" class=\"data row4 col2\" >$293.00</td>\n",
       "                        <td id=\"T_ae5dc_row4_col3\" class=\"data row4 col3\" >$3.81</td>\n",
       "            </tr>\n",
       "            <tr>\n",
       "                        <th id=\"T_ae5dc_level0_row5\" class=\"row_heading level0 row5\" >30-34</th>\n",
       "                        <td id=\"T_ae5dc_row5_col0\" class=\"data row5 col0\" >73</td>\n",
       "                        <td id=\"T_ae5dc_row5_col1\" class=\"data row5 col1\" >$2.93</td>\n",
       "                        <td id=\"T_ae5dc_row5_col2\" class=\"data row5 col2\" >$214.00</td>\n",
       "                        <td id=\"T_ae5dc_row5_col3\" class=\"data row5 col3\" >$4.12</td>\n",
       "            </tr>\n",
       "            <tr>\n",
       "                        <th id=\"T_ae5dc_level0_row6\" class=\"row_heading level0 row6\" >35-39</th>\n",
       "                        <td id=\"T_ae5dc_row6_col0\" class=\"data row6 col0\" >41</td>\n",
       "                        <td id=\"T_ae5dc_row6_col1\" class=\"data row6 col1\" >$3.60</td>\n",
       "                        <td id=\"T_ae5dc_row6_col2\" class=\"data row6 col2\" >$147.67</td>\n",
       "                        <td id=\"T_ae5dc_row6_col3\" class=\"data row6 col3\" >$4.76</td>\n",
       "            </tr>\n",
       "            <tr>\n",
       "                        <th id=\"T_ae5dc_level0_row7\" class=\"row_heading level0 row7\" >40+</th>\n",
       "                        <td id=\"T_ae5dc_row7_col0\" class=\"data row7 col0\" >13</td>\n",
       "                        <td id=\"T_ae5dc_row7_col1\" class=\"data row7 col1\" >$2.94</td>\n",
       "                        <td id=\"T_ae5dc_row7_col2\" class=\"data row7 col2\" >$38.24</td>\n",
       "                        <td id=\"T_ae5dc_row7_col3\" class=\"data row7 col3\" >$3.19</td>\n",
       "            </tr>\n",
       "    </tbody></table>"
      ]
     },
     "metadata": {},
     "execution_count": 161
    }
   ],
   "metadata": {}
  },
  {
   "cell_type": "markdown",
   "source": [
    "## Top Spenders"
   ],
   "metadata": {}
  },
  {
   "cell_type": "markdown",
   "source": [
    "* Run basic calculations to obtain the results in the table below\n",
    "\n",
    "\n",
    "* Create a summary data frame to hold the results\n",
    "\n",
    "\n",
    "* Sort the total purchase value column in descending order\n",
    "\n",
    "\n",
    "* Optional: give the displayed data cleaner formatting\n",
    "\n",
    "\n",
    "* Display a preview of the summary data frame\n",
    "\n"
   ],
   "metadata": {}
  },
  {
   "cell_type": "code",
   "execution_count": 162,
   "source": [
    "spenders = purchase_data.groupby('SN')\r\n",
    "purchase_spender = spenders['Purchase ID'].count()\r\n",
    "average_purchase_spender =spenders['Price'].mean()\r\n",
    "total_purchase_spender = spenders['Price'].sum()\r\n",
    "spender_df = pd.DataFrame(data=purchase_spender)\r\n",
    "spender_df = spender_df.rename(columns={'Purchase Id':'Purchase Count'})\r\n",
    "spender_df['Average Purchase Price'] = average_purchase_spender\r\n",
    "spender_df['Total Purchase Value'] = total_purchase_spender\r\n",
    "spender_df = spender_df.sort_values(by=['Total Purchase Value'], ascending=False)\r\n",
    "spender_df_summary = spender_df.head(5)\r\n",
    "spender_df_summary = spender_df_summary.style.format(formatter={('Average Purchase Price'):('${0:,.2f}'),('Total Purchase Value'):('${0:,.2f}')})\r\n",
    "spender_df_summary\r\n"
   ],
   "outputs": [
    {
     "output_type": "execute_result",
     "data": {
      "text/plain": [
       "<pandas.io.formats.style.Styler at 0x1b67218b790>"
      ],
      "text/html": [
       "<style  type=\"text/css\" >\n",
       "</style><table id=\"T_4e50d_\" ><thead>    <tr>        <th class=\"blank level0\" ></th>        <th class=\"col_heading level0 col0\" >Purchase ID</th>        <th class=\"col_heading level0 col1\" >Average Purchase Price</th>        <th class=\"col_heading level0 col2\" >Total Purchase Value</th>    </tr>    <tr>        <th class=\"index_name level0\" >SN</th>        <th class=\"blank\" ></th>        <th class=\"blank\" ></th>        <th class=\"blank\" ></th>    </tr></thead><tbody>\n",
       "                <tr>\n",
       "                        <th id=\"T_4e50d_level0_row0\" class=\"row_heading level0 row0\" >Lisosia93</th>\n",
       "                        <td id=\"T_4e50d_row0_col0\" class=\"data row0 col0\" >5</td>\n",
       "                        <td id=\"T_4e50d_row0_col1\" class=\"data row0 col1\" >$3.79</td>\n",
       "                        <td id=\"T_4e50d_row0_col2\" class=\"data row0 col2\" >$18.96</td>\n",
       "            </tr>\n",
       "            <tr>\n",
       "                        <th id=\"T_4e50d_level0_row1\" class=\"row_heading level0 row1\" >Idastidru52</th>\n",
       "                        <td id=\"T_4e50d_row1_col0\" class=\"data row1 col0\" >4</td>\n",
       "                        <td id=\"T_4e50d_row1_col1\" class=\"data row1 col1\" >$3.86</td>\n",
       "                        <td id=\"T_4e50d_row1_col2\" class=\"data row1 col2\" >$15.45</td>\n",
       "            </tr>\n",
       "            <tr>\n",
       "                        <th id=\"T_4e50d_level0_row2\" class=\"row_heading level0 row2\" >Chamjask73</th>\n",
       "                        <td id=\"T_4e50d_row2_col0\" class=\"data row2 col0\" >3</td>\n",
       "                        <td id=\"T_4e50d_row2_col1\" class=\"data row2 col1\" >$4.61</td>\n",
       "                        <td id=\"T_4e50d_row2_col2\" class=\"data row2 col2\" >$13.83</td>\n",
       "            </tr>\n",
       "            <tr>\n",
       "                        <th id=\"T_4e50d_level0_row3\" class=\"row_heading level0 row3\" >Iral74</th>\n",
       "                        <td id=\"T_4e50d_row3_col0\" class=\"data row3 col0\" >4</td>\n",
       "                        <td id=\"T_4e50d_row3_col1\" class=\"data row3 col1\" >$3.40</td>\n",
       "                        <td id=\"T_4e50d_row3_col2\" class=\"data row3 col2\" >$13.62</td>\n",
       "            </tr>\n",
       "            <tr>\n",
       "                        <th id=\"T_4e50d_level0_row4\" class=\"row_heading level0 row4\" >Iskadarya95</th>\n",
       "                        <td id=\"T_4e50d_row4_col0\" class=\"data row4 col0\" >3</td>\n",
       "                        <td id=\"T_4e50d_row4_col1\" class=\"data row4 col1\" >$4.37</td>\n",
       "                        <td id=\"T_4e50d_row4_col2\" class=\"data row4 col2\" >$13.10</td>\n",
       "            </tr>\n",
       "    </tbody></table>"
      ]
     },
     "metadata": {},
     "execution_count": 162
    }
   ],
   "metadata": {}
  },
  {
   "cell_type": "markdown",
   "source": [
    "## Most Popular Items"
   ],
   "metadata": {}
  },
  {
   "cell_type": "markdown",
   "source": [
    "* Retrieve the Item ID, Item Name, and Item Price columns\n",
    "\n",
    "\n",
    "* Group by Item ID and Item Name. Perform calculations to obtain purchase count, average item price, and total purchase value\n",
    "\n",
    "\n",
    "* Create a summary data frame to hold the results\n",
    "\n",
    "\n",
    "* Sort the purchase count column in descending order\n",
    "\n",
    "\n",
    "* Optional: give the displayed data cleaner formatting\n",
    "\n",
    "\n",
    "* Display a preview of the summary data frame\n",
    "\n"
   ],
   "metadata": {}
  },
  {
   "cell_type": "code",
   "execution_count": 163,
   "source": [
    "item_df = purchase_data[['Item ID','Item Name','Price']]\r\n",
    "grouped_item = item_df.groupby(['Item ID','Item Name'])\r\n",
    "item_count = grouped_item['Item Name'].count()\r\n",
    "item_count_df = pd.DataFrame(data=item_count)\r\n",
    "item_count_df = item_count_df.rename(columns={'Item Name':'Purchase Count'})\r\n",
    "item_count_df = item_count_df.sort_values(by=['Purchase Count'],ascending=False)\r\n",
    "item_count_df = pd.merge(item_df,item_count_df,on='Item ID',how='right')\r\n",
    "item_count_df = item_count_df.drop_duplicates(['Item ID'])\r\n",
    "item_count_df['Total Purchase Value'] = item_count_df['Purchase Count'] * item_count_df['Price']\r\n",
    "item_count_summary = item_count_df.head(5)\r\n",
    "item_count_summary = item_count_summary.style.format(formatter={('Price'):('${0:,.2f}'),('Total Purchase Value'):('${0:,.2f}')})\r\n",
    "item_count_summary\r\n",
    "\r\n",
    "\r\n",
    "\r\n",
    "\r\n"
   ],
   "outputs": [
    {
     "output_type": "execute_result",
     "data": {
      "text/plain": [
       "<pandas.io.formats.style.Styler at 0x1b674436e50>"
      ],
      "text/html": [
       "<style  type=\"text/css\" >\n",
       "</style><table id=\"T_e26be_\" ><thead>    <tr>        <th class=\"blank level0\" ></th>        <th class=\"col_heading level0 col0\" >Item ID</th>        <th class=\"col_heading level0 col1\" >Item Name</th>        <th class=\"col_heading level0 col2\" >Price</th>        <th class=\"col_heading level0 col3\" >Purchase Count</th>        <th class=\"col_heading level0 col4\" >Total Purchase Value</th>    </tr></thead><tbody>\n",
       "                <tr>\n",
       "                        <th id=\"T_e26be_level0_row0\" class=\"row_heading level0 row0\" >0</th>\n",
       "                        <td id=\"T_e26be_row0_col0\" class=\"data row0 col0\" >92</td>\n",
       "                        <td id=\"T_e26be_row0_col1\" class=\"data row0 col1\" >Final Critic</td>\n",
       "                        <td id=\"T_e26be_row0_col2\" class=\"data row0 col2\" >$4.88</td>\n",
       "                        <td id=\"T_e26be_row0_col3\" class=\"data row0 col3\" >13</td>\n",
       "                        <td id=\"T_e26be_row0_col4\" class=\"data row0 col4\" >$63.44</td>\n",
       "            </tr>\n",
       "            <tr>\n",
       "                        <th id=\"T_e26be_level0_row1\" class=\"row_heading level0 row1\" >13</th>\n",
       "                        <td id=\"T_e26be_row1_col0\" class=\"data row1 col0\" >178</td>\n",
       "                        <td id=\"T_e26be_row1_col1\" class=\"data row1 col1\" >Oathbreaker, Last Hope of the Breaking Storm</td>\n",
       "                        <td id=\"T_e26be_row1_col2\" class=\"data row1 col2\" >$4.23</td>\n",
       "                        <td id=\"T_e26be_row1_col3\" class=\"data row1 col3\" >12</td>\n",
       "                        <td id=\"T_e26be_row1_col4\" class=\"data row1 col4\" >$50.76</td>\n",
       "            </tr>\n",
       "            <tr>\n",
       "                        <th id=\"T_e26be_level0_row2\" class=\"row_heading level0 row2\" >25</th>\n",
       "                        <td id=\"T_e26be_row2_col0\" class=\"data row2 col0\" >145</td>\n",
       "                        <td id=\"T_e26be_row2_col1\" class=\"data row2 col1\" >Fiery Glass Crusader</td>\n",
       "                        <td id=\"T_e26be_row2_col2\" class=\"data row2 col2\" >$4.58</td>\n",
       "                        <td id=\"T_e26be_row2_col3\" class=\"data row2 col3\" >9</td>\n",
       "                        <td id=\"T_e26be_row2_col4\" class=\"data row2 col4\" >$41.22</td>\n",
       "            </tr>\n",
       "            <tr>\n",
       "                        <th id=\"T_e26be_level0_row3\" class=\"row_heading level0 row3\" >34</th>\n",
       "                        <td id=\"T_e26be_row3_col0\" class=\"data row3 col0\" >132</td>\n",
       "                        <td id=\"T_e26be_row3_col1\" class=\"data row3 col1\" >Persuasion</td>\n",
       "                        <td id=\"T_e26be_row3_col2\" class=\"data row3 col2\" >$3.19</td>\n",
       "                        <td id=\"T_e26be_row3_col3\" class=\"data row3 col3\" >9</td>\n",
       "                        <td id=\"T_e26be_row3_col4\" class=\"data row3 col4\" >$28.71</td>\n",
       "            </tr>\n",
       "            <tr>\n",
       "                        <th id=\"T_e26be_level0_row4\" class=\"row_heading level0 row4\" >43</th>\n",
       "                        <td id=\"T_e26be_row4_col0\" class=\"data row4 col0\" >108</td>\n",
       "                        <td id=\"T_e26be_row4_col1\" class=\"data row4 col1\" >Extraction, Quickblade Of Trembling Hands</td>\n",
       "                        <td id=\"T_e26be_row4_col2\" class=\"data row4 col2\" >$3.53</td>\n",
       "                        <td id=\"T_e26be_row4_col3\" class=\"data row4 col3\" >9</td>\n",
       "                        <td id=\"T_e26be_row4_col4\" class=\"data row4 col4\" >$31.77</td>\n",
       "            </tr>\n",
       "    </tbody></table>"
      ]
     },
     "metadata": {},
     "execution_count": 163
    }
   ],
   "metadata": {}
  },
  {
   "cell_type": "markdown",
   "source": [
    "## Most Profitable Items"
   ],
   "metadata": {}
  },
  {
   "cell_type": "markdown",
   "source": [
    "* Sort the above table by total purchase value in descending order\n",
    "\n",
    "\n",
    "* Optional: give the displayed data cleaner formatting\n",
    "\n",
    "\n",
    "* Display a preview of the data frame\n",
    "\n"
   ],
   "metadata": {}
  },
  {
   "cell_type": "code",
   "execution_count": 164,
   "source": [
    "item_count_df = item_count_df.sort_values(by='Total Purchase Value',ascending=False)\r\n",
    "item_count_summary = item_count_df.head(5)\r\n",
    "item_count_summary = item_count_summary.style.format(formatter={('Price'):('${0:,.2f}'),('Total Purchase Value'):('${0:,.2f}')})\r\n",
    "item_count_summary\r\n",
    "\r\n",
    "\r\n",
    "\r\n",
    "\r\n"
   ],
   "outputs": [
    {
     "output_type": "execute_result",
     "data": {
      "text/plain": [
       "<pandas.io.formats.style.Styler at 0x1b6743ef340>"
      ],
      "text/html": [
       "<style  type=\"text/css\" >\n",
       "</style><table id=\"T_0ad2e_\" ><thead>    <tr>        <th class=\"blank level0\" ></th>        <th class=\"col_heading level0 col0\" >Item ID</th>        <th class=\"col_heading level0 col1\" >Item Name</th>        <th class=\"col_heading level0 col2\" >Price</th>        <th class=\"col_heading level0 col3\" >Purchase Count</th>        <th class=\"col_heading level0 col4\" >Total Purchase Value</th>    </tr></thead><tbody>\n",
       "                <tr>\n",
       "                        <th id=\"T_0ad2e_level0_row0\" class=\"row_heading level0 row0\" >0</th>\n",
       "                        <td id=\"T_0ad2e_row0_col0\" class=\"data row0 col0\" >92</td>\n",
       "                        <td id=\"T_0ad2e_row0_col1\" class=\"data row0 col1\" >Final Critic</td>\n",
       "                        <td id=\"T_0ad2e_row0_col2\" class=\"data row0 col2\" >$4.88</td>\n",
       "                        <td id=\"T_0ad2e_row0_col3\" class=\"data row0 col3\" >13</td>\n",
       "                        <td id=\"T_0ad2e_row0_col4\" class=\"data row0 col4\" >$63.44</td>\n",
       "            </tr>\n",
       "            <tr>\n",
       "                        <th id=\"T_0ad2e_level0_row1\" class=\"row_heading level0 row1\" >13</th>\n",
       "                        <td id=\"T_0ad2e_row1_col0\" class=\"data row1 col0\" >178</td>\n",
       "                        <td id=\"T_0ad2e_row1_col1\" class=\"data row1 col1\" >Oathbreaker, Last Hope of the Breaking Storm</td>\n",
       "                        <td id=\"T_0ad2e_row1_col2\" class=\"data row1 col2\" >$4.23</td>\n",
       "                        <td id=\"T_0ad2e_row1_col3\" class=\"data row1 col3\" >12</td>\n",
       "                        <td id=\"T_0ad2e_row1_col4\" class=\"data row1 col4\" >$50.76</td>\n",
       "            </tr>\n",
       "            <tr>\n",
       "                        <th id=\"T_0ad2e_level0_row2\" class=\"row_heading level0 row2\" >52</th>\n",
       "                        <td id=\"T_0ad2e_row2_col0\" class=\"data row2 col0\" >82</td>\n",
       "                        <td id=\"T_0ad2e_row2_col1\" class=\"data row2 col1\" >Nirvana</td>\n",
       "                        <td id=\"T_0ad2e_row2_col2\" class=\"data row2 col2\" >$4.90</td>\n",
       "                        <td id=\"T_0ad2e_row2_col3\" class=\"data row2 col3\" >9</td>\n",
       "                        <td id=\"T_0ad2e_row2_col4\" class=\"data row2 col4\" >$44.10</td>\n",
       "            </tr>\n",
       "            <tr>\n",
       "                        <th id=\"T_0ad2e_level0_row3\" class=\"row_heading level0 row3\" >25</th>\n",
       "                        <td id=\"T_0ad2e_row3_col0\" class=\"data row3 col0\" >145</td>\n",
       "                        <td id=\"T_0ad2e_row3_col1\" class=\"data row3 col1\" >Fiery Glass Crusader</td>\n",
       "                        <td id=\"T_0ad2e_row3_col2\" class=\"data row3 col2\" >$4.58</td>\n",
       "                        <td id=\"T_0ad2e_row3_col3\" class=\"data row3 col3\" >9</td>\n",
       "                        <td id=\"T_0ad2e_row3_col4\" class=\"data row3 col4\" >$41.22</td>\n",
       "            </tr>\n",
       "            <tr>\n",
       "                        <th id=\"T_0ad2e_level0_row4\" class=\"row_heading level0 row4\" >69</th>\n",
       "                        <td id=\"T_0ad2e_row4_col0\" class=\"data row4 col0\" >103</td>\n",
       "                        <td id=\"T_0ad2e_row4_col1\" class=\"data row4 col1\" >Singed Scalpel</td>\n",
       "                        <td id=\"T_0ad2e_row4_col2\" class=\"data row4 col2\" >$4.35</td>\n",
       "                        <td id=\"T_0ad2e_row4_col3\" class=\"data row4 col3\" >8</td>\n",
       "                        <td id=\"T_0ad2e_row4_col4\" class=\"data row4 col4\" >$34.80</td>\n",
       "            </tr>\n",
       "    </tbody></table>"
      ]
     },
     "metadata": {},
     "execution_count": 164
    }
   ],
   "metadata": {
    "scrolled": true
   }
  }
 ],
 "metadata": {
  "anaconda-cloud": {},
  "kernel_info": {
   "name": "python3"
  },
  "kernelspec": {
   "name": "python3",
   "display_name": "Python 3.8.8 64-bit ('base': conda)"
  },
  "language_info": {
   "codemirror_mode": {
    "name": "ipython",
    "version": 3
   },
   "file_extension": ".py",
   "mimetype": "text/x-python",
   "name": "python",
   "nbconvert_exporter": "python",
   "pygments_lexer": "ipython3",
   "version": "3.8.8"
  },
  "latex_envs": {
   "LaTeX_envs_menu_present": true,
   "autoclose": false,
   "autocomplete": true,
   "bibliofile": "biblio.bib",
   "cite_by": "apalike",
   "current_citInitial": 1,
   "eqLabelWithNumbers": true,
   "eqNumInitial": 1,
   "hotkeys": {
    "equation": "Ctrl-E",
    "itemize": "Ctrl-I"
   },
   "labels_anchors": false,
   "latex_user_defs": false,
   "report_style_numbering": false,
   "user_envs_cfg": false
  },
  "nteract": {
   "version": "0.2.0"
  },
  "interpreter": {
   "hash": "2c99e9fdba74eaac10fbab343373af76b25a75552a47fd4ce928ab922f07f2e4"
  }
 },
 "nbformat": 4,
 "nbformat_minor": 2
}